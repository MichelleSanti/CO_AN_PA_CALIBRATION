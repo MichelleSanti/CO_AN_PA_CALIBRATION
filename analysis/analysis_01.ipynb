{
 "cells": [
  {
   "cell_type": "code",
   "execution_count": 1,
   "id": "52840465-8207-41b1-90b7-46f6014fed6c",
   "metadata": {
    "tags": []
   },
   "outputs": [],
   "source": [
    "import pandas as pd\n",
    "import json\n",
    "import matplotlib.pyplot as plt"
   ]
  },
  {
   "cell_type": "markdown",
   "id": "846c0627-c133-4a38-ae14-f8fcc22f034f",
   "metadata": {},
   "source": [
    "## Plot"
   ]
  },
  {
   "cell_type": "code",
   "execution_count": 15,
   "id": "71bd2f95-def5-492e-a959-da7e21bb027a",
   "metadata": {
    "tags": []
   },
   "outputs": [],
   "source": [
    "def plot_data(data, title=\"[]\"):\n",
    "    plt.figure(figsize=(20,10),facecolor='whitesmoke')\n",
    "    ax = plt.axes(facecolor='whitesmoke')\n",
    "\n",
    "    plt.plot(data['date'], data['sample_measurement'], \n",
    "             '-o', \n",
    "             label='AirNow',\n",
    "             color='darkslateblue',\n",
    "             markersize=12, linewidth=5,\n",
    "             markerfacecolor='darkslateblue',\n",
    "             markeredgecolor='grey',\n",
    "             markeredgewidth=1)\n",
    "\n",
    "    #resources: named colors - https://matplotlib.org/examples/color/named_colors.html\n",
    "    #           default markers and lines list - https://matplotlib.org/2.1.2/api/_as_gen/matplotlib.pyplot.plot.html\n",
    "\n",
    "    # axes format\n",
    "    plt.xticks(fontsize=18)\n",
    "    plt.yticks(fontsize=18)\n",
    "    #ax.set_ylim(90, 200)\n",
    "    #plt.yticks(np.arange(0, 50, step=20), fontsize=18)\n",
    "\n",
    "    # tickmarks direction\n",
    "    ax.tick_params(direction='in', length=8, width=3)\n",
    "\n",
    "    # adjust border\n",
    "    ax.spines[\"left\"].set_linewidth(2.5)\n",
    "    ax.spines[\"bottom\"].set_linewidth(2.5)\n",
    "    ax.spines[\"right\"].set_visible(False)\n",
    "    ax.spines[\"top\"].set_visible(False)\n",
    "\n",
    "    # titles\n",
    "    plt.title(title, fontsize=24)\n",
    "    plt.xlabel('Time',fontsize=18)\n",
    "    plt.ylabel('PM$_{2.5}$ ( $\\mu$g / m$^3$)',fontsize=18)\n",
    "\n",
    "    # legend\n",
    "    plt.legend(bbox_to_anchor=(0.23, 0.88),loc='lower right')\n",
    "\n",
    "    # write to show the whole plot\n",
    "    plt.show()\n",
    "    #plt.savefig('AirNow_timeseries_CUAthens.png')"
   ]
  },
  {
   "cell_type": "code",
   "execution_count": 2,
   "id": "1b8d0619-2bd4-497a-9de8-a2283b9c45a2",
   "metadata": {
    "tags": []
   },
   "outputs": [
    {
     "ename": "NameError",
     "evalue": "name 'plot_data' is not defined",
     "output_type": "error",
     "traceback": [
      "\u001b[0;31m---------------------------------------------------------------------------\u001b[0m",
      "\u001b[0;31mNameError\u001b[0m                                 Traceback (most recent call last)",
      "Cell \u001b[0;32mIn[2], line 5\u001b[0m\n\u001b[1;32m      3\u001b[0m \u001b[38;5;28;01mfor\u001b[39;00m f \u001b[38;5;129;01min\u001b[39;00m glob\u001b[38;5;241m.\u001b[39mglob(\u001b[38;5;124m\"\u001b[39m\u001b[38;5;124m../data/**_payload.csv\u001b[39m\u001b[38;5;124m\"\u001b[39m):\n\u001b[1;32m      4\u001b[0m     data \u001b[38;5;241m=\u001b[39m pd\u001b[38;5;241m.\u001b[39mread_csv(f)\n\u001b[0;32m----> 5\u001b[0m     \u001b[43mplot_data\u001b[49m(data, title\u001b[38;5;241m=\u001b[39m\u001b[38;5;124mf\u001b[39m\u001b[38;5;124m'\u001b[39m\u001b[38;5;124mAirNow PM$_\u001b[39m\u001b[38;5;132;01m{\u001b[39;00m\u001b[38;5;241m2.5\u001b[39m\u001b[38;5;132;01m}\u001b[39;00m\u001b[38;5;124m$ at CU Athens\u001b[39m\u001b[38;5;130;01m\\n\u001b[39;00m\u001b[38;5;124m(\u001b[39m\u001b[38;5;132;01m{\u001b[39;00mf\u001b[38;5;132;01m}\u001b[39;00m\u001b[38;5;124m)\u001b[39m\u001b[38;5;124m'\u001b[39m)\n",
      "\u001b[0;31mNameError\u001b[0m: name 'plot_data' is not defined"
     ]
    }
   ],
   "source": [
    "import glob\n",
    "\n",
    "for f in glob.glob(\"../data/**_payload.csv\"):\n",
    "    data = pd.read_csv(f)\n",
    "    plot_data(data, title=f'AirNow PM$_{2.5}$ at CU Athens\\n({f})')"
   ]
  },
  {
   "cell_type": "code",
   "execution_count": null,
   "id": "c91c2921-21c8-4f84-9ba4-5882002e9767",
   "metadata": {},
   "outputs": [],
   "source": []
  }
 ],
 "metadata": {
  "kernelspec": {
   "display_name": "Python 3 (ipykernel)",
   "language": "python",
   "name": "python3"
  },
  "language_info": {
   "codemirror_mode": {
    "name": "ipython",
    "version": 3
   },
   "file_extension": ".py",
   "mimetype": "text/x-python",
   "name": "python",
   "nbconvert_exporter": "python",
   "pygments_lexer": "ipython3",
   "version": "3.10.11"
  }
 },
 "nbformat": 4,
 "nbformat_minor": 5
}
