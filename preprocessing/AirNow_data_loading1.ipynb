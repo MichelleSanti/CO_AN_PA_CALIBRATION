{
 "cells": [
  {
   "cell_type": "markdown",
   "id": "4270e9cc",
   "metadata": {},
   "source": [
    "# Collect archived Airnow Data"
   ]
  },
  {
   "cell_type": "markdown",
   "id": "44b316a1",
   "metadata": {},
   "source": [
    "Use the API to download Airnow data from select stations"
   ]
  },
  {
   "cell_type": "markdown",
   "id": "3c871226",
   "metadata": {},
   "source": [
    "## Load python packages"
   ]
  },
  {
   "cell_type": "code",
   "execution_count": 1,
   "id": "c256168f",
   "metadata": {
    "tags": []
   },
   "outputs": [],
   "source": [
    "import numpy as np\n",
    "import pandas as pd\n",
    "from pandas.tseries.offsets import DateOffset\n",
    "import matplotlib.pyplot as plt\n",
    "import datetime\n",
    "from pathlib import Path # System agnostic paths\n",
    "\n",
    "import requests # for url requests\n",
    "import json # for json reading/writing\n",
    "import time # for epoch timestamp\n",
    "import csv # for writing csv files\n",
    "\n",
    "import os\n",
    "\n",
    "'''\n",
    "    NOTE: you must sign up for your own EPA Now key and \n",
    "    put it along with the password in the file api_key.txt\n",
    "'''\n",
    "\n",
    "with open(\"../api_key.txt\") as f:\n",
    "    email, pwd = f.read().split(\",\")"
   ]
  },
  {
   "cell_type": "code",
   "execution_count": 5,
   "id": "1db6a5a9",
   "metadata": {
    "tags": []
   },
   "outputs": [
    {
     "name": "stdout",
     "output_type": "stream",
     "text": [
      "[info]: START processing (start=20170101, end=20171231, state=08, county=103, site=0007) > Western_CO/Piceance_Basin/RioBasin_2017payload.json\n",
      "\n",
      "[warn]: UNABLE TO PROCESS (start=20170101, end=20171231, state=08, county=103, site=0007) > NOT CREATED Western_CO/Piceance_Basin/RioBasin_2017payload.json\n",
      "\n",
      "[info]: START processing (start=20180101, end=20181231, state=08, county=103, site=0007) > Western_CO/Piceance_Basin/RioBasin_2018payload.json\n",
      "\n",
      "[warn]: UNABLE TO PROCESS (start=20180101, end=20181231, state=08, county=103, site=0007) > NOT CREATED Western_CO/Piceance_Basin/RioBasin_2018payload.json\n",
      "\n",
      "[info]: START processing (start=20190101, end=20191231, state=08, county=103, site=0007) > Western_CO/Piceance_Basin/RioBasin_2019payload.json\n",
      "\n",
      "[warn]: UNABLE TO PROCESS (start=20190101, end=20191231, state=08, county=103, site=0007) > NOT CREATED Western_CO/Piceance_Basin/RioBasin_2019payload.json\n",
      "\n",
      "[info]: START processing (start=20200101, end=20201231, state=08, county=103, site=0007) > Western_CO/Piceance_Basin/RioBasin_2020payload.json\n",
      "\n",
      "[info]: DONE processing (start=20200101, end=20201231, state=08, county=103, site=0007) > CREATED Western_CO/Piceance_Basin/RioBasin_2020payload.json\n",
      "\n",
      "[info]: START processing (start=20210101, end=20211231, state=08, county=103, site=0007) > Western_CO/Piceance_Basin/RioBasin_2021payload.json\n",
      "\n",
      "[info]: DONE processing (start=20210101, end=20211231, state=08, county=103, site=0007) > CREATED Western_CO/Piceance_Basin/RioBasin_2021payload.json\n",
      "\n",
      "[info]: START processing (start=20220101, end=20221231, state=08, county=103, site=0007) > Western_CO/Piceance_Basin/RioBasin_2022payload.json\n",
      "[info]: DONE processing (start=20220101, end=20221231, state=08, county=103, site=0007) > CREATED Western_CO/Piceance_Basin/RioBasin_2022payload.json\n"
     ]
    }
   ],
   "source": [
    "url = 'https://aqs.epa.gov/data/api/sampleData/bySite?'\n",
    "\n",
    "with open(\"AirNow_payloads.txt\") as f:\n",
    "    f.readline() # skip header\n",
    "    for lines in f:\n",
    "        param, bdate, edate, state, county, site, fname = lines.split(\",\")\n",
    "        \n",
    "        keys = {\n",
    "        'email': email, #for access to the api\n",
    "        'key': pwd, #for access to the api\n",
    "        'param': param, \n",
    "        'bdate': bdate, #begin date (modify as needed, YYYYMMDD)\n",
    "        'edate': edate, #end date (modify as needed, YYYYMMDD)\n",
    "        'state': state, #Colorado\n",
    "        'county': county, \n",
    "        'site': site, \n",
    "        }\n",
    "    \n",
    "        print(f\"[info]: START processing (start={bdate}, end={edate}, state={state}, county={county}, site={site}) > {fname}\")\n",
    "        query_AirNow = requests.get(url, keys).json()\n",
    "        \n",
    "        if len(fname.split('/')) > 1: # mk folder if necessary\n",
    "            os.makedirs(f\"../data/{'/'.join(fname.split('/')[:-1])}\", exist_ok=True)\n",
    "        \n",
    "        json.dump(query_AirNow['Data'], open(f\"../data/{fname}\".strip(), \"w\")) \n",
    "        \n",
    "        data_extract = pd.DataFrame(query_AirNow['Data'])\n",
    "\n",
    "        if not data_extract.empty:\n",
    "            output_data = pd.DataFrame(columns=['date', 'sample_measurement'])        \n",
    "            output_data['date'] = pd.to_datetime(data_extract['date_gmt'] + ' ' + data_extract['time_gmt'])\n",
    "            output_data['sample_measurement'] = data_extract['sample_measurement']\n",
    "            output_data.sort_values(by='date').to_csv(f\"../data/{fname}\".strip().replace(\".json\", \".csv\"),index=False)\n",
    "        \n",
    "            print(f\"[info]: DONE processing (start={bdate}, end={edate}, state={state}, county={county}, site={site}) > CREATED {fname}\")\n",
    "        else:\n",
    "            print(f\"[warn]: UNABLE TO PROCESS (start={bdate}, end={edate}, state={state}, county={county}, site={site}) > NOT CREATED {fname}\")\n",
    "            \n",
    "        time.sleep(2)"
   ]
  },
  {
   "cell_type": "code",
   "execution_count": 7,
   "id": "c4090623-df12-40e0-b7f2-17dc7a9f2d45",
   "metadata": {},
   "outputs": [
    {
     "name": "stdout",
     "output_type": "stream",
     "text": [
      "{'Header': [{'status': 'No data matched your selection', 'request_time': '2023-06-06T14:03:54-04:00', 'url': 'https://aqs.epa.gov/data/api/sampleData/bySite?email=mamassih%40ucar.edu&key=carmelfrog11&param=88502&bdate=20170101&edate=20171231&state=08&county=067&site=7001', 'rows': 0}], 'Data': []}\n"
     ]
    }
   ],
   "source": [
    "print(query_AirNow)"
   ]
  },
  {
   "cell_type": "code",
   "execution_count": null,
   "id": "d3db35e0-5caf-4139-9e56-7585d61bcdfb",
   "metadata": {},
   "outputs": [],
   "source": []
  }
 ],
 "metadata": {
  "kernelspec": {
   "display_name": "Python 3 (ipykernel)",
   "language": "python",
   "name": "python3"
  },
  "language_info": {
   "codemirror_mode": {
    "name": "ipython",
    "version": 3
   },
   "file_extension": ".py",
   "mimetype": "text/x-python",
   "name": "python",
   "nbconvert_exporter": "python",
   "pygments_lexer": "ipython3",
   "version": "3.9.16"
  }
 },
 "nbformat": 4,
 "nbformat_minor": 5
}
