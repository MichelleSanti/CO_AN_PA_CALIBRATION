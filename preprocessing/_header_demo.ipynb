{
 "cells": [
  {
   "cell_type": "code",
   "execution_count": 1,
   "id": "39832016-d297-4f4d-8cf9-ed4db82a2dcd",
   "metadata": {
    "tags": []
   },
   "outputs": [],
   "source": [
    "import numpy as np\n",
    "import pandas as pd\n",
    "from pandas.tseries.offsets import DateOffset\n",
    "import matplotlib.pyplot as plt\n",
    "import datetime\n",
    "from pathlib import Path # System agnostic paths\n",
    "\n",
    "import requests # for url requests\n",
    "import json # for json reading/writing\n",
    "import time # for epoch timestamp\n",
    "import csv # for writing csv files\n",
    "\n",
    "import os\n",
    "\n",
    "'''\n",
    "    NOTE: you must sign up for your own EPA Now key and \n",
    "    put it along with the password in the file api_key.txt\n",
    "'''\n",
    "\n",
    "with open(\"../api_key.txt\") as f:\n",
    "    email, pwd = f.read().split(\",\")"
   ]
  },
  {
   "cell_type": "code",
   "execution_count": 2,
   "id": "9ba86d46-b7b0-4b0f-807a-5558ee9df258",
   "metadata": {
    "tags": []
   },
   "outputs": [
    {
     "name": "stdout",
     "output_type": "stream",
     "text": [
      "[info]: START processing (start=20170101, end=20171231, state=08, county=005, site=0005) > Front_Range/FRLittletonACC/testACC_17payload.json\n",
      "## SITE_NUMBER : 0005\n",
      "## LATITUDE : 39.604399\n",
      "## LONGITUDE : -105.019526\n",
      "## METHOD_TYPE : FRM\n",
      "## METHOD : R & P Model 2025 PM-2.5 Sequential Air Sampler w/VSCC - Gravimetric\n",
      "## STATE : Colorado\n",
      "## COUNTY : Arapahoe\n",
      "## DATE_START : 20170101\n",
      "## DATE_END : 20171231\n",
      "[info]: DONE processing (start=20170101, end=20171231, state=08, county=005, site=0005) > CREATED Front_Range/FRLittletonACC/testACC_17payload.json\n"
     ]
    }
   ],
   "source": [
    "url = 'https://aqs.epa.gov/data/api/sampleData/bySite?'\n",
    "\n",
    "with open(\"AirNow_payloadstest.txt\") as f:\n",
    "    f.readline() # skip header\n",
    "    for lines in f:\n",
    "        param, bdate, edate, state, county, site, fname = lines.split(\",\")\n",
    "        \n",
    "        keys = {\n",
    "        'email': email, #for access to the api\n",
    "        'key': pwd, #for access to the api\n",
    "        'param': param, #88500 (\"PM2.5 Total Atmospheric\" for CU Athens) or 88101 (\"PM2.5 Local Conditions\" for Longmont)\n",
    "        'bdate': bdate, #begin date (modify as needed, YYYYMMDD)\n",
    "        'edate': edate, #end date (modify as needed, YYYYMMDD)\n",
    "        'state': state, #Colorado\n",
    "        'county': county, #Boulder County\n",
    "        'site': site, #1001 (for CU Athens) or 0003 (for Longmont)\n",
    "        }\n",
    "    \n",
    "        print(f\"[info]: START processing (start={bdate}, end={edate}, state={state}, county={county}, site={site}) > {fname}\")\n",
    "        query_AirNow = requests.get(url, keys).json()\n",
    "        \n",
    "        if len(fname.split('/')) > 1: # mk folder if necessary\n",
    "            os.makedirs(f\"../data/{'/'.join(fname.split('/')[:-1])}\", exist_ok=True)\n",
    "        \n",
    "        json.dump(query_AirNow['Data'], open(f\"../data/{fname}\".strip(), \"w\")) \n",
    "        \n",
    "        data_extract = pd.DataFrame(query_AirNow['Data'])\n",
    "\n",
    "        if not data_extract.empty:\n",
    "            output_data = pd.DataFrame(columns=['date', 'sample_measurement'])        \n",
    "            output_data['date'] = pd.to_datetime(data_extract['date_gmt'] + ' ' + data_extract['time_gmt'])\n",
    "            output_data['sample_measurement'] = data_extract['sample_measurement']\n",
    "            \n",
    "            #Label for csv file\n",
    "            metadata = ['site_number','latitude', 'longitude', 'method_type', 'method','state', 'county']\n",
    "            metadata_d = data_extract[metadata].iloc[0].to_dict()\n",
    "            metadata_d['date_start'] = bdate\n",
    "            metadata_d['date_end'] = edate\n",
    "            \n",
    "            for k, v in metadata_d.items():\n",
    "                print(f'## {k.upper()} : {v}')\n",
    "                \n",
    "            output_data.sort_values(by='date').to_csv(f\"../data/{fname}\".strip().replace(\".json\", \".csv\"),index=False)\n",
    "        \n",
    "            print(f\"[info]: DONE processing (start={bdate}, end={edate}, state={state}, county={county}, site={site}) > CREATED {fname}\")\n",
    "        else:\n",
    "            print(f\"[warn]: UNABLE TO PROCESS (start={bdate}, end={edate}, state={state}, county={county}, site={site}) > NOT CREATED {fname}\")\n",
    "            \n",
    "        time.sleep(2)"
   ]
  },
  {
   "cell_type": "code",
   "execution_count": 5,
   "id": "4daa7803-7204-4c47-8b02-99976e37e4b9",
   "metadata": {
    "tags": []
   },
   "outputs": [],
   "source": [
    "metadata = [ \n",
    "            'site_number', \n",
    "            'latitude', 'longitude', \n",
    "            'method_type', 'method', 'method_code',\n",
    "            'state', 'county']"
   ]
  },
  {
   "cell_type": "code",
   "execution_count": 6,
   "id": "da257355-a747-4f5d-b074-a9dfb895a668",
   "metadata": {
    "tags": []
   },
   "outputs": [],
   "source": [
    "metadata_d = data_extract[metadata].iloc[0].to_dict()"
   ]
  },
  {
   "cell_type": "code",
   "execution_count": 7,
   "id": "fe6fe75b-ab31-470c-b1d4-2166436e28e2",
   "metadata": {
    "tags": []
   },
   "outputs": [],
   "source": [
    "metadata_d['date_start'] = bdate\n",
    "metadata_d['date_end'] = bdate"
   ]
  },
  {
   "cell_type": "code",
   "execution_count": 8,
   "id": "13a95112-5c51-40d9-b5f3-f0f90c64a597",
   "metadata": {
    "tags": []
   },
   "outputs": [],
   "source": [
    "sample_fragment = \"\"\"date,sample_measurement\n",
    "2017-01-01 07:00:00,20.5\n",
    "2017-01-01 07:00:00,18.2\n",
    "2017-01-01 08:00:00,13.6\n",
    "\"\"\""
   ]
  },
  {
   "cell_type": "code",
   "execution_count": 9,
   "id": "e82aa870-58e6-4678-9405-5411f435e320",
   "metadata": {
    "tags": []
   },
   "outputs": [
    {
     "data": {
      "text/plain": [
       "{'site_number': '0007',\n",
       " 'latitude': 39.8723,\n",
       " 'longitude': -108.2183,\n",
       " 'method_type': 'Non-FRM',\n",
       " 'method': 'PM2.5 VSCC w/No Correction Factor - TEOM Gravimetric 30 deg C',\n",
       " 'method_code': '715',\n",
       " 'state': 'Colorado',\n",
       " 'county': 'Rio Blanco',\n",
       " 'date_start': '20220101',\n",
       " 'date_end': '20220101'}"
      ]
     },
     "execution_count": 9,
     "metadata": {},
     "output_type": "execute_result"
    }
   ],
   "source": [
    "metadata_d"
   ]
  },
  {
   "cell_type": "code",
   "execution_count": 10,
   "id": "b125befd-fc41-4e12-a0f2-661fdec66bf8",
   "metadata": {
    "tags": []
   },
   "outputs": [
    {
     "name": "stdout",
     "output_type": "stream",
     "text": [
      "## SITE_NUMBER : 0007\n",
      "## LATITUDE : 39.8723\n",
      "## LONGITUDE : -108.2183\n",
      "## METHOD_TYPE : Non-FRM\n",
      "## METHOD : PM2.5 VSCC w/No Correction Factor - TEOM Gravimetric 30 deg C\n",
      "## METHOD_CODE : 715\n",
      "## STATE : Colorado\n",
      "## COUNTY : Rio Blanco\n",
      "## DATE_START : 20220101\n",
      "## DATE_END : 20220101\n",
      "date,sample_measurement\n",
      "2017-01-01 07:00:00,20.5\n",
      "2017-01-01 07:00:00,18.2\n",
      "2017-01-01 08:00:00,13.6\n",
      "\n"
     ]
    }
   ],
   "source": [
    "for k, v in metadata_d.items():\n",
    "    print(f'## {k.upper()} : {v}')\n",
    "print(sample_fragment)"
   ]
  },
  {
   "cell_type": "code",
   "execution_count": null,
   "id": "9f6cd1db-d69f-4dd9-b757-814c09c5b21f",
   "metadata": {},
   "outputs": [],
   "source": []
  }
 ],
 "metadata": {
  "kernelspec": {
   "display_name": "Python 3 (ipykernel)",
   "language": "python",
   "name": "python3"
  },
  "language_info": {
   "codemirror_mode": {
    "name": "ipython",
    "version": 3
   },
   "file_extension": ".py",
   "mimetype": "text/x-python",
   "name": "python",
   "nbconvert_exporter": "python",
   "pygments_lexer": "ipython3",
   "version": "3.9.16"
  }
 },
 "nbformat": 4,
 "nbformat_minor": 5
}
