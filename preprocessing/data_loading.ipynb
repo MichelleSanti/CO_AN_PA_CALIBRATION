{
 "cells": [
  {
   "cell_type": "markdown",
   "id": "dd9ad242-39a9-4238-92e2-0f73f90542c0",
   "metadata": {},
   "source": [
    "# Collect archived Airnow Data"
   ]
  },
  {
   "cell_type": "markdown",
   "id": "84a17162-f617-4154-910a-54d005db26f5",
   "metadata": {},
   "source": [
    "Use the API to download Airnow data from select stations"
   ]
  },
  {
   "cell_type": "markdown",
   "id": "aad49b1d-d448-417d-b99d-1f52ab9a27c2",
   "metadata": {},
   "source": [
    "## Load python packages"
   ]
  },
  {
   "cell_type": "code",
   "execution_count": 1,
   "id": "73ed9a21-7fe2-4f00-b553-da6240d24f72",
   "metadata": {
    "tags": []
   },
   "outputs": [],
   "source": [
    "import numpy as np\n",
    "import pandas as pd\n",
    "from pandas.tseries.offsets import DateOffset\n",
    "import matplotlib.pyplot as plt\n",
    "import datetime\n",
    "from pathlib import Path # System agnostic paths\n",
    "\n",
    "import requests # for url requests\n",
    "import json # for json reading/writing\n",
    "import time # for epoch timestamp\n",
    "import csv # for writing csv files\n",
    "\n",
    "'''\n",
    "    NOTE: you must sign up for your own EPA Now key and \n",
    "    put it along with the password in the file api_key.txt\n",
    "'''\n",
    "\n",
    "with open(\"../api_key.txt\") as f:\n",
    "    email, pwd = f.read().split(\",\")"
   ]
  },
  {
   "cell_type": "code",
   "execution_count": 18,
   "id": "ace58c39-1808-489f-90db-60e8985626ee",
   "metadata": {
    "tags": []
   },
   "outputs": [],
   "source": [
    "import time\n",
    "\n",
    "url = 'https://aqs.epa.gov/data/api/sampleData/bySite?'\n",
    "\n",
    "with open(\"payloads.txt\") as f:\n",
    "    f.readline() # skip header\n",
    "    for lines in f:\n",
    "        param, bdate, edate, state, county, site, fname = lines.split(\",\")\n",
    "        \n",
    "        keys = {\n",
    "        'email': email, #for access to the api\n",
    "        'key': pwd, #for access to the api\n",
    "        'param': param, #88500 (\"PM2.5 Total Atmospheric\" for CU Athens) or 88101 (\"PM2.5 Local Conditions\" for Longmont)\n",
    "        'bdate': bdate, #begin date (modify as needed, YYYYMMDD)\n",
    "        'edate': edate, #end date (modify as needed, YYYYMMDD)\n",
    "        'state': state, #Colorado\n",
    "        'county': county, #Boulder County\n",
    "        'site': site, #1001 (for CU Athens) or 0003 (for Longmont)\n",
    "        }\n",
    "\n",
    "        # query_AirNow = requests.get(url, keys)\n",
    "        # query_AirNow = requests.get(\"https://raw.githubusercontent.com/MichelleSanti/CO_AN_PA_CALIBRATION/main/data/202008_pm25_0001.json\").json()\n",
    "        \n",
    "        json.dump(query_AirNow['Data'], open(fname, \"w\")) \n",
    "        time.sleep(2)"
   ]
  },
  {
   "cell_type": "code",
   "execution_count": null,
   "id": "bca2480f-8b92-4f5f-807a-fa9f2dc65152",
   "metadata": {},
   "outputs": [],
   "source": []
  }
 ],
 "metadata": {
  "kernelspec": {
   "display_name": "Python 3 (ipykernel)",
   "language": "python",
   "name": "python3"
  },
  "language_info": {
   "codemirror_mode": {
    "name": "ipython",
    "version": 3
   },
   "file_extension": ".py",
   "mimetype": "text/x-python",
   "name": "python",
   "nbconvert_exporter": "python",
   "pygments_lexer": "ipython3",
   "version": "3.10.11"
  }
 },
 "nbformat": 4,
 "nbformat_minor": 5
}
