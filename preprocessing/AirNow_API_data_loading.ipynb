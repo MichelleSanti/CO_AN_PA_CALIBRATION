{
 "cells": [
  {
   "cell_type": "markdown",
   "id": "4579b476-5c57-4d2e-ba44-2da0b7c75d51",
   "metadata": {},
   "source": [
    "# Collected archived AirNow Data"
   ]
  },
  {
   "cell_type": "markdown",
   "id": "e50349b3-f4b7-40c6-b033-3a4de7bf0ee8",
   "metadata": {},
   "source": [
    "Use the API to download Airnow data from select stations"
   ]
  },
  {
   "cell_type": "markdown",
   "id": "7fabf90c-c226-40f9-8ff3-877e00b857bd",
   "metadata": {},
   "source": [
    "# Load python packages"
   ]
  },
  {
   "cell_type": "code",
   "execution_count": 1,
   "id": "39832016-d297-4f4d-8cf9-ed4db82a2dcd",
   "metadata": {
    "tags": []
   },
   "outputs": [],
   "source": [
    "import pandas as pd\n",
    "import datetime\n",
    "import requests  # for url requests\n",
    "import json  # for json reading/writing\n",
    "import os\n",
    "import time\n",
    "\n",
    "'''\n",
    "    NOTE: you must sign up for your own EPA Now key and \n",
    "    put it along with the password in the file api_key.txt\n",
    "'''\n",
    "\n",
    "with open(\"../api_key.txt\") as f:\n",
    "    email, pwd = f.read().split(\",\")"
   ]
  },
  {
   "cell_type": "markdown",
   "id": "375839e4-4c7b-4ae9-bf17-2135852845c7",
   "metadata": {},
   "source": [
    "# Access EPA API"
   ]
  },
  {
   "cell_type": "code",
   "execution_count": 2,
   "id": "b301e90d-bd1c-4ef2-96c3-23fd3cf403e8",
   "metadata": {
    "tags": []
   },
   "outputs": [],
   "source": [
    "def get_payload(keys, fname, url='https://aqs.epa.gov/data/api/sampleData/bySite?'):\n",
    "    payload_status = False\n",
    "    try:\n",
    "        _, _, param, bdate, edate, state, county, site = keys.values()\n",
    "\n",
    "        print(f\"[info]: START processing (start={bdate}, end={edate}, state={state}, county={county}, site={site}) > {fname}\")\n",
    "        query_AirNow = requests.get(url, keys).json()\n",
    "\n",
    "        if query_AirNow['Header'][0]['status'] == 'Failed':\n",
    "            payload_status = f\"[error]: UNABLE TO PROCESS (start={bdate}, end={edate}, state={state}, county={county}, site={site}) > NOT CREATED {fname.strip()} (reason: '{query_AirNow['Header'][0]['error'][0].strip()})'\"\n",
    "            print(payload_status)\n",
    "        else:\n",
    "            if len(fname.split('/')) > 1:  # mk folder if necessary\n",
    "                os.makedirs(f\"../Data/{'/'.join(fname.split('/')[:-1])}\", exist_ok=True)\n",
    "\n",
    "            json.dump(query_AirNow['Data'], open(f\"../Data/{fname}\".strip(), \"w\")) \n",
    "            data_extract = pd.DataFrame(query_AirNow['Data'])\n",
    "\n",
    "            if not data_extract.empty:\n",
    "                # Label for csv file\n",
    "                metadata = ['site_number', 'latitude', 'longitude', 'method_type', 'method', 'state', 'county']\n",
    "                metadata_d = data_extract[metadata].iloc[0].to_dict()\n",
    "                metadata_d['date_start'] = bdate\n",
    "                metadata_d['date_end'] = edate\n",
    "\n",
    "                with open(f\"../data/{fname}\".strip().replace(\".json\", \".csv\"), \"w\") as fo:\n",
    "                    fo.write(\n",
    "                        '\\n'.join([f'## {k.upper()} : {v}' for k, v in metadata_d.items()])\n",
    "                    )\n",
    "                    fo.write('\\n')\n",
    "\n",
    "                output_data = pd.DataFrame(columns=['date', 'sample_measurement'])        \n",
    "                output_data['date'] = pd.to_datetime(data_extract['date_gmt'] + ' ' + data_extract['time_gmt'])\n",
    "                output_data['sample_measurement'] = data_extract['sample_measurement']\n",
    "\n",
    "                output_data.sort_values(by='date').to_csv(f\"../Data/{fname}\".strip().replace(\".json\", \".csv\"), index=False, mode='a')\n",
    "\n",
    "                print(f\"[info]: DONE processing (start={bdate}, end={edate}, state={state}, county={county}, site={site}) > CREATED {fname}\")\n",
    "                payload_status = None\n",
    "            else:\n",
    "                api_status = query_AirNow['Header'][0]['status']\n",
    "                payload_status = f\"[warn]: UNABLE TO PROCESS (start={bdate}, end={edate}, state={state}, county={county}, site={site}) > NOT CREATED {fname.strip()} ([empty data] reason: {api_status})\"\n",
    "                print(payload_status)\n",
    "    except Exception as e:\n",
    "        payload_status = f\"[error]: UNABLE TO PROCESS (start={bdate}, end={edate}, state={state}, county={county}, site={site}) > NOT CREATED {fname.strip()} (reason: {e})\"\n",
    "        print(payload_status)\n",
    "\n",
    "    return payload_status"
   ]
  },
  {
   "cell_type": "markdown",
   "id": "ce0b3561-6f54-4300-9584-29f968717565",
   "metadata": {},
   "source": [
    "# Set up query keys and error response allocation"
   ]
  },
  {
   "cell_type": "code",
   "execution_count": 6,
   "id": "8712443c-70e1-4399-a5e9-6d7330b9c9f8",
   "metadata": {
    "tags": []
   },
   "outputs": [
    {
     "name": "stdout",
     "output_type": "stream",
     "text": [
      "[info]: START processing (start=20190101, end=20191231, state=08, county=097, site=0008) > Denver/ContinMonitors/ASPENMyst2019_payload.json\n",
      "[warn]: UNABLE TO PROCESS (start=20190101, end=20191231, state=08, county=097, site=0008) > NOT CREATED Denver/ContinMonitors/ASPENMyst2019_payload.json ([empty data] reason: No data matched your selection)\n"
     ]
    }
   ],
   "source": [
    "now = datetime.datetime.now()\n",
    "timestamp = f\"{now.year}{now.month:02}{now.day:02}{now.hour:02}{now.minute:02}{now.second:02}\"\n",
    "url = 'https://aqs.epa.gov/data/api/sampleData/bySite?'\n",
    "\n",
    "with open(\"AirNow_payloads.txt\") as f, \\\n",
    "     open(f\"{timestamp}_payload_errors.txt\", \"w\") as f_err:\n",
    "    f.readline()  # skip header\n",
    "    for line in f:\n",
    "        if line.strip():\n",
    "            param, bdate, edate, state, county, site, fname = line.split(\",\")\n",
    "            keys = {\n",
    "                'email': email, #for access to the api\n",
    "                'key': pwd, #for access to the api\n",
    "                'param': param, #88500 (\"PM2.5 Total Atmospheric\" for CU Athens) or 88101 (\"PM2.5 Local Conditions\" for Longmont)\n",
    "                'bdate': bdate, #begin date (modify as needed, YYYYMMDD)\n",
    "                'edate': edate, #end date (modify as needed, YYYYMMDD)\n",
    "                'state': state, #Colorado\n",
    "                'county': county, #County\n",
    "                'site': site, #1001 (for CU Athens) or 0003 (for Longmont)\n",
    "            }\n",
    "\n",
    "            payload = get_payload(keys, fname)\n",
    "            if payload:\n",
    "                f_err.write(line)\n",
    "                f_err.write(f\"\\t{payload}\")\n",
    "                f_err.write(\"\\n\\n\")\n",
    "\n",
    "            time.sleep(1.25)"
   ]
  },
  {
   "cell_type": "code",
   "execution_count": null,
   "id": "dbb247b8-9e97-46aa-bd93-c2e1d738018f",
   "metadata": {},
   "outputs": [],
   "source": []
  }
 ],
 "metadata": {
  "kernelspec": {
   "display_name": "Python 3 (ipykernel)",
   "language": "python",
   "name": "python3"
  },
  "language_info": {
   "codemirror_mode": {
    "name": "ipython",
    "version": 3
   },
   "file_extension": ".py",
   "mimetype": "text/x-python",
   "name": "python",
   "nbconvert_exporter": "python",
   "pygments_lexer": "ipython3",
   "version": "3.9.16"
  }
 },
 "nbformat": 4,
 "nbformat_minor": 5
}
