{
 "cells": [
  {
   "cell_type": "code",
   "execution_count": 1,
   "id": "51723fe3-4dc3-4336-acd9-2b6177076488",
   "metadata": {
    "tags": []
   },
   "outputs": [],
   "source": [
    "import pandas as pd\n",
    "import glob"
   ]
  },
  {
   "cell_type": "code",
   "execution_count": 2,
   "id": "c9fac2fd-800f-45bb-b911-c1b079976d0a",
   "metadata": {
    "tags": []
   },
   "outputs": [
    {
     "name": "stdout",
     "output_type": "stream",
     "text": [
      "[info]: completed file ../data/Denver/Adams_Birch/7275Birch_combined_2017-2022.csv\n",
      "[info]: completed file ../data/Denver/CAMP/2105Brdwy_combined_2017-2022.csv\n",
      "[info]: completed file ../data/Denver/I25Denver/I25D_combined_2017-2022.csv\n",
      "[info]: completed file ../data/Denver/I25Globeville/I25G_combined_2017-2022.csv\n",
      "[info]: completed file ../data/Denver/La_Casa/4545Nvj_combined_2017-2022.csv\n",
      "[info]: completed file ../data/Denver/NJH/14thAlbion_combined_2017-2022.csv\n",
      "[info]: completed file ../data/Front_Range/FRBoulder/2022payload.csv_combined_2017-2022.csv\n",
      "[info]: completed file ../data/Front_Range/FRBoulderCmmrce/Chamber_combined_2017-2022.csv\n",
      "[info]: completed file ../data/Front_Range/FRColoradoSprings/CS_combined_2017-2022.csv\n",
      "[info]: completed file ../data/Front_Range/FRFtCollins/FTCol_combined_2017-2022.csv\n",
      "[info]: completed file ../data/Front_Range/FRGreely/Grly_combined_2017-2022.csv\n",
      "[info]: completed file ../data/Front_Range/FRLittleton/Roxboro_combined_2017-2022.csv\n",
      "[info]: completed file ../data/Front_Range/FRLittletonACC/ACC_combined_2017-2022.csv\n",
      "[info]: completed file ../data/Front_Range/FRLongmont/Lngmnt_combined_2017-2022.csv\n",
      "[info]: completed file ../data/Front_Range/FRPlatteville/MS_combined_2017-2022.csv\n",
      "[info]: completed file ../data/Front_Range/FRPueblo/FtnSchl_combined_2017-2022.csv\n",
      "[info]: completed file ../data/Western_CO/Aspen/YBrick_combined_2017-2022.csv\n",
      "[info]: completed file ../data/Western_CO/Grand_Junction/Powell_combined_2017-2022.csv\n",
      "[info]: completed file ../data/Western_CO/Grand_Junction/Powell_combined_2017-2022.csv\n",
      "[info]: completed file ../data/Western_CO/Ignacio/Ute1_combined_2017-2022.csv\n",
      "[info]: completed file ../data/Western_CO/La_Posta/Ute3_combined_2017-2022.csv\n",
      "[info]: completed file ../data/Western_CO/Paonia/Paonia_combined_2017-2022.csv\n",
      "[info]: completed file ../data/Western_CO/Piceance_Basin/RioBasin_combined_2017-2022.csv\n"
     ]
    }
   ],
   "source": [
    "file_list = glob.glob(\"../data/**/*payload.csv\", recursive=True)\n",
    "df = pd.DataFrame()\n",
    "\n",
    "for i, f in enumerate(file_list):\n",
    "    if i == 0:\n",
    "        current_subdir = previous_subdir = '/'.join(f.split('\\\\')[:-1])\n",
    "        df = pd.read_csv(f, skiprows=9)\n",
    "        current_fname = f.split(\"/\")[-1]\n",
    "    else:\n",
    "        s = current_fname.split(\"\\\\\")\n",
    "        s[-1] = s[-1].split('_')[0] + \"_combined_2017-2022.csv\"\n",
    "        new_filename = '/'.join(s)\n",
    "\n",
    "        previous_subdir = current_subdir\n",
    "        current_subdir = '/'.join(f.split('\\\\')[:-1])\n",
    "\n",
    "        if previous_subdir != current_subdir:\n",
    "            df.to_csv(\"../\"+new_filename, index=False)\n",
    "            print(f\"[info]: completed file ../{new_filename}\")\n",
    "\n",
    "            # reset the dataframe, we are on a new subdir\n",
    "            df = pd.read_csv(f, skiprows=9)\n",
    "            # break # todo: remove\n",
    "        else:\n",
    "            # concat accumulate dataframe with new file\n",
    "            df = pd.concat([df, pd.read_csv(f, skiprows=9)])\n",
    "            current_fname = f.split(\"/\")[-1]"
   ]
  },
  {
   "cell_type": "code",
   "execution_count": null,
   "id": "bddc8a35-68ba-40da-a4cc-6dd50d9b45ab",
   "metadata": {},
   "outputs": [],
   "source": []
  }
 ],
 "metadata": {
  "kernelspec": {
   "display_name": "Python 3 (ipykernel)",
   "language": "python",
   "name": "python3"
  },
  "language_info": {
   "codemirror_mode": {
    "name": "ipython",
    "version": 3
   },
   "file_extension": ".py",
   "mimetype": "text/x-python",
   "name": "python",
   "nbconvert_exporter": "python",
   "pygments_lexer": "ipython3",
   "version": "3.10.9"
  }
 },
 "nbformat": 4,
 "nbformat_minor": 5
}
